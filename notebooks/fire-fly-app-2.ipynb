{
 "cells": [
  {
   "cell_type": "code",
   "execution_count": null,
   "metadata": {},
   "outputs": [],
   "source": [
    "def euclidean_distance(coord1, coord2):\n",
    "    x1, y1 = coord1\n",
    "    x2, y2 = coord2\n",
    "    distance = (x2 - x1)**2 + (y2 - y1)**2\n",
    "    return distance"
   ]
  },
  {
   "cell_type": "code",
   "execution_count": null,
   "metadata": {},
   "outputs": [],
   "source": [
    "import random\n",
    "import math"
   ]
  },
  {
   "cell_type": "code",
   "execution_count": null,
   "metadata": {},
   "outputs": [],
   "source": [
    "def objective_func(params, rho, k, P, yield_stress, alpha, beta, gamma):\n",
    "    w, h, t = params\n",
    "    material_use = rho * w * h * t\n",
    "    load_capacity = k * (w * h**2 / 6)\n",
    "    safety_factor = yield_stress / (P / (w * t))\n",
    "    return alpha * material_use - beta * load_capacity + gamma * (P / (w * t * yield_stress))\n"
   ]
  },
  {
   "cell_type": "code",
   "execution_count": null,
   "metadata": {},
   "outputs": [],
   "source": [
    "rho = 7850  # Density of steel in kg/m^3\n",
    "k = 1e3  # Load capacity constant\n",
    "P = 1e4  # Applied load in N\n",
    "yield_stress = 250e6  # Yield stress of steel in Pa\n",
    "a = 1.0  # Weight for material usage\n",
    "b = 1.0  # Weight for load capacity\n",
    "g = 1.0  # Weight for safety factor"
   ]
  },
  {
   "cell_type": "code",
   "execution_count": null,
   "metadata": {},
   "outputs": [],
   "source": [
    "fireflies = []\n",
    "fx = []\n",
    "number_of_fireflies = 10\n",
    "L = -5\n",
    "U = 5\n",
    "scale = abs(U-L)\n",
    "beta = 1\n",
    "gamma = 1\n",
    "alpha = 1\n",
    "iter = 2\n",
    "delta = 1"
   ]
  },
  {
   "cell_type": "code",
   "execution_count": null,
   "metadata": {},
   "outputs": [],
   "source": [
    "def generate_pair(L, U):\n",
    "    x1 = L + random.random() * (U - L)\n",
    "    x2 = L + random.random() * (U - L)\n",
    "    x3 = L + random.random() * (U-L)\n",
    "    return x1, x2,x3"
   ]
  },
  {
   "cell_type": "code",
   "execution_count": null,
   "metadata": {},
   "outputs": [],
   "source": [
    "def generate_fireflies(number_of_fireflies,L,U):\n",
    "    fireflies = []\n",
    "    fx = []\n",
    "    for _ in number_of_fireflies:\n",
    "        x1,x2,x3 = generate_pair(L,U)\n",
    "        r = objective_function(firefly, rho, k, P, yield_stress, alpha, beta, gamma)\n",
    "        fireflies.append((x1,x2,x3))\n",
    "        fx.append(r)\n",
    "    return fireflies,fx"
   ]
  },
  {
   "cell_type": "code",
   "execution_count": null,
   "metadata": {},
   "outputs": [],
   "source": [
    "for _ in range(iter):\n",
    "    for i in range(len(fireflies)):\n",
    "        xi1, xi2,xi3 = fireflies[j]\n",
    "        fxi = fx[i]\n",
    "        for j, (xj1, xj2,xj2) in enumerate(fireflies):\n",
    "            if j ==i:\n",
    "                break\n",
    "            fxj = fx[j]\n",
    "\n",
    "            if fxi > fxj :\n",
    "                rsq = euclidean_distance((xi1,xi2,xi3),(xj1,xj2,xj3))\n",
    "                xi1new = xi1 +  beta * math.exp(-gamma * rsq) + alpha * delta * (random.random - 1//2) * scale\n",
    "                xi2new = xi2 +  beta * math.exp(-gamma * rsq) + alpha * delta * (random.random - 1//2) * scale\n",
    "                xi3new = xi3 +  beta * math.exp(-gamma * rsq) + alpha * delta * (random.random - 1//2) * scale\n",
    "                fxnew = objective_func((xi1new,xi2new,xi3new),rho, k, P, yield_stress, alpha, beta, gamma)\n",
    "                if fxnew < fx[i]:\n",
    "                    fx[i] = fxnew\n",
    "                    fireflies[i] = (xi1new,xi2new,x3new)\n",
    "    min_result = min(fx)\n",
    "    min_index = fx.index(min_result)\n",
    "    best_firefly_params = fireflies[min_index]"
   ]
  }
 ],
 "metadata": {
  "language_info": {
   "name": "python"
  }
 },
 "nbformat": 4,
 "nbformat_minor": 2
}
