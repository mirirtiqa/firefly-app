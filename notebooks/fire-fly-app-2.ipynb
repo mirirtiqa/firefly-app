{
 "cells": [
  {
   "cell_type": "markdown",
   "metadata": {},
   "source": []
  },
  {
   "cell_type": "code",
   "execution_count": null,
   "metadata": {
    "vscode": {
     "languageId": "plaintext"
    }
   },
   "outputs": [],
   "source": [
    "import numpy as np\n",
    "\n",
    "\n",
    "def objective_function(params, material_use, load_capacity, P, w, t, yield_stress):\n",
    "    alpha, beta, gamma = params\n",
    "    return (alpha * material_use - beta * load_capacity + gamma * (P / (w * t * yield_stress)))\n",
    "\n",
    "\n",
    "def firefly_algorithm(objective_function, bounds, material_use, load_capacity, P, w, t, yield_stress, num_fireflies=20, max_iter=100, alpha=0.5, beta_min=0.2, gamma=1.0):\n",
    "    \n",
    "    fireflies = np.random.rand(num_fireflies, len(bounds))\n",
    "    for i in range(len(bounds)):\n",
    "        fireflies[:, i] = bounds[i][0] + fireflies[:, i] * (bounds[i][1] - bounds[i][0])\n",
    "\n",
    "    \n",
    "    fitness = np.apply_along_axis(objective_function, 1, fireflies, material_use, load_capacity, P, w, t, yield_stress)\n",
    "    best = np.min(fitness)\n",
    "    best_solution = fireflies[np.argmin(fitness)]\n",
    "\n",
    "    for iteration in range(max_iter):\n",
    "        for i in range(num_fireflies):\n",
    "            for j in range(num_fireflies):\n",
    "                if i == j:\n",
    "                    continue\n",
    "                if fitness[i] > fitness[j]:\n",
    "                    \n",
    "                    r = np.linalg.norm(fireflies[i] - fireflies[j])\n",
    "                    beta = beta_min * np.exp(-gamma * r**2)\n",
    "                    fireflynew = fireflies[i].copy()\n",
    "                    for k in range(len(bounds)):\n",
    "                        rand_value = np.random.rand() - 0.5\n",
    "                        fireflynew[k] = fireflynew[k] + beta * (fireflies[j, k] - fireflies[i, k]) + alpha * rand_value * (bounds[k][1] - bounds[k][0])\n",
    "                        fireflynew[k] = np.clip(fireflynew[k], bounds[k][0], bounds[k][1])\n",
    "                    \n",
    "\n",
    "        \n",
    "            newfitness = np.apply_along_axis(objective_function, 1, fireflynew[np.newaxis, :], material_use, load_capacity, P, w, t, yield_stress)\n",
    "            if newfitness < fitness[i]:\n",
    "                fitness[i] = newfitness\n",
    "                fireflies[i] = fireflynew.copy()\n",
    "\n",
    "        \n",
    "        current_best = np.min(fitness)\n",
    "        if current_best < best:\n",
    "            best = current_best\n",
    "            best_solution = fireflies[np.argmin(fitness)]\n",
    "\n",
    "        \n",
    "        print(f\"Iteration {iteration}: Best Solution = {best_solution}, Best Fitness = {best}\")\n",
    "\n",
    "    return best_solution, best\n",
    "\n"
   ]
  },
  {
   "cell_type": "code",
   "execution_count": null,
   "metadata": {
    "vscode": {
     "languageId": "plaintext"
    }
   },
   "outputs": [],
   "source": [
    "\n",
    "bounds = [(1, 10), (1, 10), (1, 10)]\n",
    "\n",
    "\n",
    "material_use = 100  \n",
    "load_capacity = 200  \n",
    "P = 500  \n",
    "w = 10  \n",
    "t = 5  \n",
    "yield_stress = 250 \n",
    "\n",
    "\n",
    "best_solution, best_fitness = firefly_algorithm(objective_function, bounds, material_use, load_capacity, P, w, t, yield_stress)\n",
    "print(f\"Best Solution: {best_solution}\")\n",
    "print(f\"Best Fitness: {best_fitness}\")\n"
   ]
  }
 ],
 "metadata": {
  "language_info": {
   "name": "python"
  }
 },
 "nbformat": 4,
 "nbformat_minor": 2
}
