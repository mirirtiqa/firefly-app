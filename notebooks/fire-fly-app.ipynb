{
 "cells": [
  {
   "cell_type": "markdown",
   "metadata": {},
   "source": [
    "Parameter finding for a model.\n",
    "we have the following model : x1**3 - 3*x1*x2**2 + x2**3 - 3*x1**2*x2 + 2*x1**2 + 2*x2**2 - x1*x2 + x1 - x2 + 3\n",
    "we have to find the global minimum value of this model with x1 and x2 being in specific ranges.\n",
    "\n",
    "L = -5\n",
    "U = 5"
   ]
  },
  {
   "cell_type": "markdown",
   "metadata": {},
   "source": [
    "x1 = L + rand (U -L)\n",
    "alpha\n",
    "Xnew = Xi + beta * e ^ gamma distance square (Xj - Xi) + alpha delta (rand  - 1/2) * scale\n"
   ]
  },
  {
   "cell_type": "markdown",
   "metadata": {},
   "source": [
    "parametres: beta, delta, alpha, gamma"
   ]
  },
  {
   "cell_type": "code",
   "execution_count": 5,
   "metadata": {},
   "outputs": [],
   "source": [
    "def euclidean_distance(coord1, coord2):\n",
    "    x1, y1 = coord1\n",
    "    x2, y2 = coord2\n",
    "    distance = (x2 - x1)**2 + (y2 - y1)**2\n",
    "    return distance"
   ]
  },
  {
   "cell_type": "code",
   "execution_count": 4,
   "metadata": {},
   "outputs": [],
   "source": [
    "import random\n",
    "import math"
   ]
  },
  {
   "cell_type": "code",
   "execution_count": null,
   "metadata": {},
   "outputs": [],
   "source": [
    "fireflies = []\n",
    "fx = []\n",
    "number_of_fireflies = 10\n",
    "L = -5\n",
    "U = 5\n",
    "scale = abs(U-L)\n",
    "beta = 1\n",
    "gamma = 1\n",
    "alpha = 1\n",
    "iter = 2\n",
    "delta = 1\n",
    "\n",
    "\n"
   ]
  },
  {
   "cell_type": "code",
   "execution_count": 3,
   "metadata": {},
   "outputs": [],
   "source": [
    "def generate_pair(L, U):\n",
    "    x1 = L + random.random() * (U - L)\n",
    "    x2 = L + random.random() * (U - L)\n",
    "    return x1, x2"
   ]
  },
  {
   "cell_type": "code",
   "execution_count": 2,
   "metadata": {},
   "outputs": [],
   "source": [
    "def generate_fireflies(number_of_fireflies,L,U):\n",
    "    fireflies = []\n",
    "    fx = []\n",
    "    for _ in range(number_of_fireflies):\n",
    "        x1,x2 = generate_pair(L,U)\n",
    "        r = x1**3 - 3*x1*x2**2 + x2**3 - 3*x1**2*x2 + 2*x1**2 + 2*x2**2 - x1*x2 + x1 - x2 + 3\n",
    "        fireflies.append((x1,x2))\n",
    "        fx.append(r)\n",
    "    return fireflies,fx\n",
    "\n",
    "\n",
    "\n"
   ]
  },
  {
   "cell_type": "code",
   "execution_count": null,
   "metadata": {},
   "outputs": [],
   "source": [
    "best_params = []\n",
    "best_fx =[]\n",
    "for k in range(iter):\n",
    "    print(k)\n",
    "    for i in range(number_of_fireflies):\n",
    "        print(i)\n",
    "        xi1, xi2 = fireflies[i]\n",
    "        fxi = fx[i]\n",
    "        for j, (xj1, xj2) in enumerate(fireflies):\n",
    "            if j == i:\n",
    "                continue\n",
    "            fxj = fx[j]\n",
    "\n",
    "            if fxi > fxj :\n",
    "                rsq = euclidean_distance((xi1,xi2),(xj1,xj2))\n",
    "                xi1new = xi1 +  beta * math.exp(-gamma * rsq)*(xj1-xi1) + alpha * delta * (random.random() - 0.5) * scale\n",
    "                xi2new = xi2 +  beta * math.exp(-gamma * rsq)*(xj2-xi2) + alpha * delta * (random.random() - 0.5) * scale\n",
    "                fxnew = xi1new**3 - 3*xi1new*xi2new**2 + xi2new**3 - 3*xi1new**2*xi2new + 2*xi1new**2 + 2*xi2new**2 - xi1new*xi2new + xi1new - xi2new + 3\n",
    "                if fxnew < fx[i]:\n",
    "                    fx[i] = fxnew\n",
    "                    fireflies[i] = (xi1new,xi2new)\n",
    "    min_result = min(fx)\n",
    "    min_index = fx.index(min_result)\n",
    "    best_firefly_params = fireflies[min_index]\n",
    "    best_params.append(best_firefly_params)\n",
    "    best_fx.append(min_result)\n",
    "                \n",
    "\n",
    "                \n",
    "\n",
    "\n",
    "\n",
    "\n",
    "    "
   ]
  }
 ],
 "metadata": {
  "kernelspec": {
   "display_name": "Python 3",
   "language": "python",
   "name": "python3"
  },
  "language_info": {
   "codemirror_mode": {
    "name": "ipython",
    "version": 3
   },
   "file_extension": ".py",
   "mimetype": "text/x-python",
   "name": "python",
   "nbconvert_exporter": "python",
   "pygments_lexer": "ipython3",
   "version": "3.10.13"
  }
 },
 "nbformat": 4,
 "nbformat_minor": 2
}
